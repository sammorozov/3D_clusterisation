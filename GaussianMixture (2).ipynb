{
 "cells": [
  {
   "cell_type": "code",
   "execution_count": null,
   "id": "d71f3508",
   "metadata": {},
   "outputs": [],
   "source": []
  },
  {
   "cell_type": "code",
   "execution_count": null,
   "id": "7cb5404e",
   "metadata": {},
   "outputs": [],
   "source": [
    "import numpy as np\n",
    "import pandas as pd\n",
    "from sklearn.mixture import GaussianMixture\n",
    "from sklearn.metrics import silhouette_score\n",
    "import matplotlib.pyplot as plt\n",
    "from tqdm import tqdm\n",
    "import numpy as np\n",
    "import pyvista as pv\n",
    "from tqdm import tqdm"
   ]
  },
  {
   "cell_type": "code",
   "execution_count": null,
   "id": "9c5fa50a",
   "metadata": {},
   "outputs": [],
   "source": [
    "data_file = r'C:\\bmm\\cloud.xyz'\n",
    "data = np.loadtxt(data_file, delimiter=' ', dtype=float)"
   ]
  },
  {
   "cell_type": "code",
   "execution_count": null,
   "id": "da4d694a",
   "metadata": {},
   "outputs": [],
   "source": [
    "# Создаем DataFrame из загруженных данных\n",
    "df = pd.DataFrame(data, columns=['x', 'y', 'z', 'r', 'g', 'b'])\n",
    "\n",
    "# Находим оптимальное количество кластеров методом локтя\n",
    "def find_optimal_clusters(df, max_clusters=12):\n",
    "    bic_scores = []\n",
    "    n_components_range = range(1, max_clusters+1)\n",
    "    for n_components in n_components_range:\n",
    "        gmm = GaussianMixture(n_components=n_components, covariance_type='full', random_state=0)\n",
    "        gmm.fit(df)\n",
    "        bic_scores.append(gmm.bic(df))\n",
    "    return bic_scores\n",
    "\n",
    "# Вызываем функцию и строим график\n",
    "bic_scores = find_optimal_clusters(df)\n",
    "plt.plot(range(1, len(bic_scores) + 1), bic_scores, marker='o')\n",
    "plt.xlabel('Количество кластеров')\n",
    "plt.ylabel('BIC score')\n",
    "plt.title('BIC Score vs. Количество кластеров')\n",
    "plt.show()\n",
    "\n",
    "# Определяем оптимальное количество кластеров на основе графика\n",
    "optimal_clusters = np.argmin(bic_scores) + 1\n",
    "\n",
    "# Выполняем кластеризацию с оптимальным количеством кластеров\n",
    "# gmm = GaussianMixture(n_components=optimal_clusters, covariance_type='spherical', random_state=42)\n",
    "# labels = gmm.fit_predict(df)\n",
    "\n",
    "# Добавляем метки кластеров в исходный DataFrame\n",
    "# df['cluster'] = labels\n"
   ]
  },
  {
   "cell_type": "code",
   "execution_count": null,
   "id": "f18ca97a",
   "metadata": {},
   "outputs": [],
   "source": [
    "optimal_clusters = 12\n",
    "\n",
    "gmm = GaussianMixture(n_components=optimal_clusters, covariance_type='full', random_state=0)\n",
    "labels = gmm.fit_predict(df)\n",
    "\n",
    "\n",
    "df['cluster'] = labels"
   ]
  },
  {
   "cell_type": "code",
   "execution_count": null,
   "id": "8e6c4d47",
   "metadata": {},
   "outputs": [],
   "source": [
    "# Путь для сохранения нового файла\n",
    "file_path = r'C:\\bmm\\result1.xyz'\n",
    "\n",
    "# Сохраняем DataFrame в новый файл с разделителем ' ' (пробел), без заголовков и индексов\n",
    "df.to_csv(file_path, sep=' ', header=None, index=False)"
   ]
  },
  {
   "cell_type": "code",
   "execution_count": null,
   "id": "17e2e5fa",
   "metadata": {},
   "outputs": [],
   "source": [
    "filename = r'C:\\bmm\\result1.xyz'\n",
    "data = np.genfromtxt(filename, skip_header=1, dtype=float, delimiter=' ', missing_values='NaN')"
   ]
  },
  {
   "cell_type": "code",
   "execution_count": null,
   "id": "6110cfc9",
   "metadata": {},
   "outputs": [],
   "source": [
    "# Разделим данные на столбцы x, y, z, r, g, b и cluster\n",
    "x, y, z, cluster = data[:, 0], data[:, 1], data[:, 2], data[:, -1]\n",
    "\n",
    "# Создадим точки\n",
    "points = np.column_stack((x, y, z))\n",
    "\n",
    "# Создадим меш\n",
    "mesh = pv.PolyData(points)\n",
    "\n",
    "# Добавим информацию о кластерах как массив \"cluster\"\n",
    "mesh['cluster'] = cluster\n",
    "\n",
    "# Создадим интерактивную 3D сцену\n",
    "p = pv.Plotter()\n",
    "\n",
    "# Добавим точки с соответствующими цветами для каждого кластера\n",
    "p.add_points(mesh, scalars='cluster', render_points_as_spheres=True, point_size=5)\n",
    "\n",
    "# Отобразим окно сцены\n",
    "p.show()"
   ]
  },
  {
   "cell_type": "code",
   "execution_count": null,
   "id": "e8b117a3",
   "metadata": {},
   "outputs": [],
   "source": [
    "filename = r'C:\\bmm\\result1.xyz'\n",
    "data = np.genfromtxt(filename, skip_header=1, dtype=float, delimiter=' ', missing_values='NaN')"
   ]
  },
  {
   "cell_type": "code",
   "execution_count": null,
   "id": "ab9f575e",
   "metadata": {},
   "outputs": [],
   "source": [
    "data"
   ]
  },
  {
   "cell_type": "code",
   "execution_count": null,
   "id": "7cfde838",
   "metadata": {},
   "outputs": [],
   "source": [
    "sorted_data = data[data[:, -1].argsort()]"
   ]
  },
  {
   "cell_type": "code",
   "execution_count": null,
   "id": "38c4ed5b",
   "metadata": {},
   "outputs": [],
   "source": [
    "sorted_data[100000][-1]"
   ]
  },
  {
   "cell_type": "code",
   "execution_count": null,
   "id": "f9f9e0c4",
   "metadata": {},
   "outputs": [],
   "source": [
    "j = 0\n",
    "temp = 0\n",
    "temp_data = [[] for i in range(optimal_clusters)]\n",
    "\n",
    "for i in range(optimal_clusters):\n",
    "    \n",
    "    \n",
    "    while i == sorted_data[j][-1]:\n",
    "        \n",
    "        j += 1\n",
    "        \n",
    "        if j == len(sorted_data) - 1:\n",
    "            break\n",
    "    \n",
    "    temp_data[i] = sorted_data[temp:j]\n",
    "    \n",
    "    temp = j\n",
    "    \n",
    "    \n",
    "    \n",
    "        \n",
    "        \n",
    "        "
   ]
  },
  {
   "cell_type": "code",
   "execution_count": null,
   "id": "904f942b",
   "metadata": {},
   "outputs": [],
   "source": [
    "temp_data[3]"
   ]
  },
  {
   "cell_type": "code",
   "execution_count": null,
   "id": "e4b84d52",
   "metadata": {},
   "outputs": [],
   "source": [
    "for i in range(optimal_clusters):\n",
    "    data = temp_data[i]\n",
    "    \n",
    "    x, y, z, r, g, b = data[:, 0], data[:, 1], data[:, 2], data[:, 3], data[:, 4], data[:, 5]\n",
    "\n",
    "    points = np.column_stack((x, y, z))\n",
    "    colors = np.column_stack((r, g, b))  \n",
    "    point_cloud = pv.PolyData(points)\n",
    "\n",
    "    point_cloud.point_data['colors'] = colors\n",
    "    \n",
    "\n",
    "\n",
    "    plotter = pv.Plotter()\n",
    "    plotter.add_points(point_cloud, render_points_as_spheres=True, point_size=1)\n",
    "    plotter.add_text(\"График {}\".format(i), font_size=20, position='upper_left')\n",
    "    plotter.show()\n",
    "\n",
    "    \n",
    "    \n",
    "    \n",
    "    \n",
    "    \n",
    "    \n",
    "#     x, y, z, cluster = data[:, 0], data[:, 1], data[:, 2], data[:, -1]\n",
    "\n",
    "#     # Создадим точки\n",
    "#     points = np.column_stack((x, y, z))\n",
    "\n",
    "#     # Создадим меш\n",
    "#     mesh = pv.PolyData(points)\n",
    "\n",
    "#     # Добавим информацию о кластерах как массив \"cluster\"\n",
    "#     mesh['cluster'] = cluster\n",
    "\n",
    "#     # Создадим интерактивную 3D сцену\n",
    "#     p = pv.Plotter()\n",
    "\n",
    "#     # Добавим точки с соответствующими цветами для каждого кластера\n",
    "#     p.add_points(mesh, scalars='cluster', render_points_as_spheres=True, point_size=1)\n",
    "\n",
    "#     # Отобразим окно сцены\n",
    "#     p.show()\n"
   ]
  },
  {
   "cell_type": "code",
   "execution_count": null,
   "id": "eb02428f",
   "metadata": {},
   "outputs": [],
   "source": [
    "data_without_obj = np.concatenate((temp_data[1], temp_data[6], temp_data[7], temp_data[9], temp_data[10], temp_data[11]))\n"
   ]
  },
  {
   "cell_type": "code",
   "execution_count": null,
   "id": "79e2cad7",
   "metadata": {},
   "outputs": [],
   "source": [
    "data = data_without_obj\n",
    "x, y, z, r, g, b = data[:, 0], data[:, 1], data[:, 2], data[:, 3], data[:, 4], data[:, 5]\n",
    "\n",
    "points = np.column_stack((x, y, z))\n",
    "colors = np.column_stack((r, g, b))  \n",
    "point_cloud = pv.PolyData(points)\n",
    "\n",
    "point_cloud.point_data['colors'] = colors\n",
    "\n",
    "\n",
    "\n",
    "plotter = pv.Plotter()\n",
    "plotter.add_points(point_cloud, render_points_as_spheres=True, point_size=1)\n",
    "plotter.show()"
   ]
  },
  {
   "cell_type": "code",
   "execution_count": null,
   "id": "ca023192",
   "metadata": {},
   "outputs": [],
   "source": [
    "df = pd.DataFrame(data[:, :-1]) ## все строки без последней колонки класса\n",
    "\n",
    "df"
   ]
  },
  {
   "cell_type": "code",
   "execution_count": null,
   "id": "9a19cbd5",
   "metadata": {},
   "outputs": [],
   "source": [
    "\n",
    "\n",
    "file_path = r'C:\\bmm\\visualize.xyz'\n",
    "\n",
    "# Сохраняем DataFrame в новый файл с разделителем ' ' (пробел), без заголовков и индексов\n",
    "df.to_csv(file_path, sep=' ', header=None, index=False)"
   ]
  },
  {
   "cell_type": "code",
   "execution_count": null,
   "id": "adf81fa2",
   "metadata": {},
   "outputs": [],
   "source": []
  }
 ],
 "metadata": {
  "kernelspec": {
   "display_name": "Python 3 (ipykernel)",
   "language": "python",
   "name": "python3"
  },
  "language_info": {
   "codemirror_mode": {
    "name": "ipython",
    "version": 3
   },
   "file_extension": ".py",
   "mimetype": "text/x-python",
   "name": "python",
   "nbconvert_exporter": "python",
   "pygments_lexer": "ipython3",
   "version": "3.10.12"
  }
 },
 "nbformat": 4,
 "nbformat_minor": 5
}
