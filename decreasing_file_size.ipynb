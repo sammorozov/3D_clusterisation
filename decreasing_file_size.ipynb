{
 "cells": [
  {
   "cell_type": "code",
   "execution_count": 1,
   "id": "d10e8677",
   "metadata": {},
   "outputs": [],
   "source": [
    "from tqdm import tqdm"
   ]
  },
  {
   "cell_type": "code",
   "execution_count": 2,
   "id": "05c01b22",
   "metadata": {},
   "outputs": [
    {
     "name": "stdout",
     "output_type": "stream",
     "text": [
      "end of file\n"
     ]
    }
   ],
   "source": [
    "def remove_records(input_file, output_file):\n",
    "    \n",
    "    with open(input_file, 'r') as input_file, open(output_file, 'w') as output_file:\n",
    "        lines = 0\n",
    "        for line in input_file:\n",
    "            lines += 1\n",
    "            if lines % 2 == 0:\n",
    "                output_file.write(line)\n",
    "\n",
    "        print(\"end of file\")\n",
    "\n",
    "input_file = '/home/sam/python/bmm/cloud.xyz'\n",
    "output_file = '/home/sam/python/bmm/cloud0.xyz'\n",
    "\n",
    "remove_records(input_file, output_file)\n"
   ]
  }
 ],
 "metadata": {
  "kernelspec": {
   "display_name": "Python 3 (ipykernel)",
   "language": "python",
   "name": "python3"
  },
  "language_info": {
   "codemirror_mode": {
    "name": "ipython",
    "version": 3
   },
   "file_extension": ".py",
   "mimetype": "text/x-python",
   "name": "python",
   "nbconvert_exporter": "python",
   "pygments_lexer": "ipython3",
   "version": "3.10.12"
  }
 },
 "nbformat": 4,
 "nbformat_minor": 5
}
