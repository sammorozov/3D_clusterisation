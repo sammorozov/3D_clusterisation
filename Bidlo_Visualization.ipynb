{
 "cells": [
  {
   "cell_type": "code",
   "execution_count": null,
   "id": "e33f05a6",
   "metadata": {},
   "outputs": [],
   "source": [
    "import numpy as np\n",
    "import pyvista as pv\n",
    "from tqdm import tqdm\n"
   ]
  },
  {
   "cell_type": "code",
   "execution_count": null,
   "id": "1162a655",
   "metadata": {},
   "outputs": [],
   "source": [
    "# Загрузка данных из файла с помощью NumPy\n",
    "filename = '/home/sam/python/bmm/cloud0.xyz'\n",
    "data = np.genfromtxt(filename, skip_header=1, dtype=float, delimiter=' ', missing_values='NaN')"
   ]
  },
  {
   "cell_type": "code",
   "execution_count": null,
   "id": "f9871ba1",
   "metadata": {},
   "outputs": [],
   "source": []
  },
  {
   "cell_type": "code",
   "execution_count": null,
   "id": "a50e42db",
   "metadata": {},
   "outputs": [],
   "source": [
    "x, y, z, r, g, b = data[:, 0], data[:, 1], data[:, 2], data[:, 3], data[:, 4], data[:, 5]"
   ]
  },
  {
   "cell_type": "code",
   "execution_count": null,
   "id": "d354a841",
   "metadata": {},
   "outputs": [],
   "source": [
    "len(data)"
   ]
  },
  {
   "cell_type": "code",
   "execution_count": null,
   "id": "be829667",
   "metadata": {
    "scrolled": true
   },
   "outputs": [],
   "source": [
    "points = np.column_stack((x, y, z))\n",
    "colors = np.column_stack((r, g, b))  \n",
    "point_cloud = pv.PolyData(points)\n",
    "\n",
    "point_cloud.point_data['colors'] = colors\n",
    "\n",
    "plotter = pv.Plotter()\n",
    "plotter.add_points(point_cloud, render_points_as_spheres=True, point_size=1)\n",
    "plotter.show()"
   ]
  }
 ],
 "metadata": {
  "kernelspec": {
   "display_name": "Python 3 (ipykernel)",
   "language": "python",
   "name": "python3"
  },
  "language_info": {
   "codemirror_mode": {
    "name": "ipython",
    "version": 3
   },
   "file_extension": ".py",
   "mimetype": "text/x-python",
   "name": "python",
   "nbconvert_exporter": "python",
   "pygments_lexer": "ipython3",
   "version": "3.10.12"
  }
 },
 "nbformat": 4,
 "nbformat_minor": 5
}
